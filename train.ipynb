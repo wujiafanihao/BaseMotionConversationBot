{
 "cells": [
  {
   "cell_type": "code",
   "execution_count": 5,
   "metadata": {},
   "outputs": [
    {
     "name": "stdout",
     "output_type": "stream",
     "text": [
      "['anger', 'anger_gray', 'contempt', 'contempt_gray', 'disgust', 'disgust_gray', 'fear', 'fear_gray', 'happy', 'happy_gray', 'neutral', 'neutral_gray', 'sad', 'sad_gray', 'surprise', 'surprise_gray']\n"
     ]
    }
   ],
   "source": [
    "import os\n",
    "\n",
    "train_path = \"archive/data_relabeled_balanced_1x/train\"\n",
    "# test_path = \"archive/data_relabeled_balanced_1x/test\"\n",
    "\n",
    "train_class = next(os.walk(train_path))[1]\n",
    "# test_class = next(os.walk(test_path))[1]\n",
    "\n",
    "print(train_class)\n",
    "# print(test_class)"
   ]
  },
  {
   "cell_type": "code",
   "execution_count": null,
   "metadata": {},
   "outputs": [],
   "source": []
  },
  {
   "cell_type": "code",
   "execution_count": null,
   "metadata": {},
   "outputs": [],
   "source": [
    "# train_color.py\n"
   ]
  }
 ],
 "metadata": {
  "kernelspec": {
   "display_name": "baseEmotionconversationBot",
   "language": "python",
   "name": "python3"
  },
  "language_info": {
   "codemirror_mode": {
    "name": "ipython",
    "version": 3
   },
   "file_extension": ".py",
   "mimetype": "text/x-python",
   "name": "python",
   "nbconvert_exporter": "python",
   "pygments_lexer": "ipython3",
   "version": "3.10.10"
  }
 },
 "nbformat": 4,
 "nbformat_minor": 2
}
